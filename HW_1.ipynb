{
  "nbformat": 4,
  "nbformat_minor": 0,
  "metadata": {
    "colab": {
      "name": "HW_1_30_12_20.ipynb",
      "provenance": [],
      "collapsed_sections": []
    },
    "kernelspec": {
      "name": "python3",
      "display_name": "Python 3"
    }
  },
  "cells": [
    {
      "cell_type": "markdown",
      "metadata": {
        "id": "FTKvpTrRNhWX"
      },
      "source": [
        "# 1) Сравните метрики hit_rate@k, precision@k. Какую матрику использовать предпочтительно и почему. Привидите пример 2-3 задач (опишите, что является клиентом, что товаром), в которой более уместно использовать метрику hit_rate?"
      ]
    },
    {
      "cell_type": "markdown",
      "metadata": {
        "id": "No9KVvu3Nrup"
      },
      "source": [
        "**Ответ:**\r\n",
        "\r\n",
        "- Hit rate@k = был ли хотя бы 1 релевантный товар среди топ-k рекомендованных\r\n",
        "\r\n",
        "- Precision@k = доля купленных релевантных товаров среди топ-k рекомендованных\r\n",
        "\r\n",
        "В общих задачах предпочтительнее использовать Precision@k, т.к. это более более точна метрика качества выборки предлагаемых товаров.\r\n",
        "\r\n",
        "Метрику precision@k необходимо применять в том случае, если покупатель нам известен и мы значем его предпочтения\r\n",
        "\r\n",
        "Метрику hit_rate@k можно использовать для распределения пользователей по группам интересов. Также использутся при продаже дорогих товаров\r\n",
        "\r\n",
        "Пример:\r\n",
        "\r\n",
        "- Рекомендация музыки на яндексмузыке. Предпочтительней precision@k. музыка - товар, юзер - клиент.\r\n",
        "\r\n",
        "- продажа техники: техника - товар, юзер - клиент.\r\n"
      ]
    },
    {
      "cell_type": "markdown",
      "metadata": {
        "id": "9VaMeLyfR1-j"
      },
      "source": [
        "# 2)В метрике NDCG@k мы используем логарифм в знаменателе. Как Вы думаете, почему именно логарифм? Какую функцию можно использовать вместо логарифма? Привидите пример метрик/подходов к предобработке данных/функций ошибок в ML, где также в знаменателе присутствует логарифм."
      ]
    },
    {
      "cell_type": "markdown",
      "metadata": {
        "id": "TgEGITm0R_-l"
      },
      "source": [
        "**Ответ:**\r\n",
        "\r\n",
        "Использование логарифма в метриках ранжирования используются для того, чтобы влияние номера позиции товара оказывало максимальное значение на выдачу. Цель алгоритма - правильно ранжировать первые k объектов, все позиции. В случае выдачи Яндекса между позициями 1 и 11 целая пропасть (лишь в нескольких случаях из ста пользователь заходит дальшей первой страницы поисковой выдачи), а между позициями 101 и 111 особой разницы нет — до них мало кто доходит. Эти рассуждения выражаются с помощью логарифма\r\n",
        "\r\n",
        "Вместо логарифма можно выбрать любую медленно возрастающую функцию, напрмер корень из x.\r\n",
        "\r\n",
        "Discounted cumulative gain at K (DCG@K) и normalized discounted cumulative gain at K (nDCG@K)"
      ]
    },
    {
      "cell_type": "markdown",
      "metadata": {
        "id": "YSkr0GOLUTw5"
      },
      "source": [
        "# 3)Какие еще метрики (Вы можете вспомнить уже пройденные Вами или посмотреть в интернете) могут использоваться для рекомендательных систем (приведите примеры метрики и чем являются интеракции, чтобы она могла быть использована)."
      ]
    },
    {
      "cell_type": "markdown",
      "metadata": {
        "id": "skSXtKnwUd6J"
      },
      "source": [
        "Ранговый коэффициент корреляции Кендэлла, который основан на подсчете согласованных (и несогласованных) пар у перестановок — пар элементов, котором перестановки присвоили одинаковый (разный) порядок.\r\n",
        "\r\n",
        "Cumulative gain at K (CG@K) — базовая метрика ранжирования, которая использует простую идею: чем релевантные элементы в этом топе, тем лучше.\r\n",
        "\r\n",
        "Expected reciprocal rank (ERR) — пример метрики качества ранжирования, основанной на каскадной модели.\r\n"
      ]
    },
    {
      "cell_type": "code",
      "metadata": {
        "id": "_G6BdkueNNJn"
      },
      "source": [
        "import pandas as pd\r\n",
        "import numpy as np\r\n",
        "from collections import Counter"
      ],
      "execution_count": 196,
      "outputs": []
    },
    {
      "cell_type": "code",
      "metadata": {
        "id": "LuBzC52YNall"
      },
      "source": [
        "# pr@8 - точность на K элементах\r\n",
        "\r\n",
        "def pr_k(recommended_list, bought_list, k=8): # точность на K элементах\r\n",
        "    \r\n",
        "    bought_list = np.array(bought_list) #преобразуем списки в массив\r\n",
        "    recommended_list = np.array(recommended_list)[:k] #преобразуем в массив и возьмём первые k рекомендованных товаров\r\n",
        "    \r\n",
        "    flags = np.isin(bought_list, recommended_list) # выбираем купленные товары из рекомендованных\r\n",
        "  \r\n",
        "    precision = flags.sum() / len(recommended_list) # вычисляеи процент купленных товаров из первых k рекомендованных\r\n",
        "    \r\n",
        "    \r\n",
        "    return precision\r\n",
        "\r\n",
        "# rec@8  полнота на K элементах\r\n",
        "\r\n",
        "\r\n",
        "def rec_k(recommended_list, bought_list, k=8):\r\n",
        "    bought_list = np.array(bought_list) # преобразуем список в массив\r\n",
        "    recommended_list = np.array(recommended_list)[:k] #преобразуем в массив и возьмём первые k рекомендованных товаров\r\n",
        "    \r\n",
        "    flags = np.isin(bought_list, recommended_list) #выбираем купленные товары из рекомендованных\r\n",
        "    \r\n",
        "    recall = flags.sum() / len(bought_list) # вычисляем rec@k\r\n",
        "    \r\n",
        "    return recall\r\n",
        "  \r\n",
        "# AP@8 Average precision at K\r\n",
        "\r\n",
        "\r\n",
        "def ap_k(recommended_list, bought_list, k=5):\r\n",
        "    \r\n",
        "    bought_list = np.array(bought_list)\r\n",
        "    recommended_list = np.array(recommended_list)\r\n",
        "    \r\n",
        "    flags = np.isin(recommended_list, bought_list)\r\n",
        "    \r\n",
        "    if sum(flags) == 0:\r\n",
        "        return 0\r\n",
        "    \r\n",
        "    sum_ = 0\r\n",
        "    for i in range(1, k+1): \r\n",
        "        if flags[i] == True:\r\n",
        "            p_k = pr_k(recommended_list, bought_list, k=i)\r\n",
        "            sum_ += p_k\r\n",
        "            \r\n",
        "    result = sum_ / sum(flags)\r\n",
        "    \r\n",
        "    return result\r\n",
        "\r\n",
        "# NDCG@8 Normalized discounted cumulative gain\r\n",
        "\r\n",
        "def NDCG_k(recommended_list, bought_list, k=8):\r\n",
        "  \r\n",
        " \r\n",
        "  recommended_list = np.array(recommended_list)\r\n",
        "  \r\n",
        "  \r\n",
        "  kDCG_k=bought_list.count(recommended_list[0]); # вычисляем начальное условие \r\n",
        "  \r\n",
        "  t=1\r\n",
        "\r\n",
        "  \r\n",
        "  for i in recommended_list[1:k]: # вычисляем количество покупок из рекомендованных (с учетом десятичных логарифмов)\r\n",
        "    t+=1\r\n",
        "    n = bought_list.count(i)\r\n",
        "    kDCG_k+=n/np.log10(t)\r\n",
        "\r\n",
        "  t=1\r\n",
        "  kiDCG_k=1\r\n",
        "\r\n",
        "  for i in range(1,k):  # вычичляем идеальное состояние\r\n",
        "    t+=1\r\n",
        "    kiDCG_k=kiDCG_k+1/np.log10(t)\r\n",
        "\r\n",
        "  \r\n",
        "  return kDCG_k/kiDCG_k # возвращаем искомую метрику NDCG\r\n",
        "\r\n",
        "\r\n",
        "# Не очень понятно какая именно метрика имелась в виду, поэтому приведу 2 метики: RR@8 Retention Rate и RR@k Reciprocal Rank\r\n",
        "\r\n",
        "\r\n",
        "# RR@8 Количество купленных товаров / Общее число предложенных из k предложенных\r\n",
        "\r\n",
        "def RR_k(recommended_list, bought_list, k=8):\r\n",
        "   n=0\r\n",
        "   for i in recommended_list[:k]: # вычисляем количество покупок из рекомендованных (с учетом десятичных логарифмов)\r\n",
        "      n+=bought_list.count(i)\r\n",
        "   \r\n",
        "   return n/k\r\n",
        "\r\n",
        "\r\n",
        "# Reciprocal Rank\r\n",
        "\r\n",
        "def reciprocal_rank(recommended_list, bought_list, k):\r\n",
        "    ranks=0.\r\n",
        "    for item_rec in recommended_list[:k]:\r\n",
        "        for i, item_bought in enumerate(bought_list):\r\n",
        "            if item_rec == item_bought:\r\n",
        "                ranks += 1 / (i+1)\r\n",
        "    return ranks / len(recommended_list)\r\n",
        "  \r\n",
        "# ERR@8\r\n",
        "\r\n",
        "\r\n",
        "def expected_reciprocal_rank(recommended_list, bought_list, k=8):\r\n",
        "    \r\n",
        "    bought_list = np.array(bought_list)\r\n",
        "    recommended_list = np.array(recommended_list[:k])\r\n",
        "    \r\n",
        "    item_relevant = [(recommended_list[i] in bought_list) for i in range(recommended_list.shape[0])]\r\n",
        "   \r\n",
        "    rank_item_relevant = [i+1 for i in range(len(item_relevant)) if item_relevant[i]]    \r\n",
        "    \r\n",
        "    max_r_true = max(rank_item_relevant)\r\n",
        " \r\n",
        "    \r\n",
        "    p_k = np.zeros(k)    \r\n",
        "    for i in range(k):\r\n",
        "        p_k[i] = (2**item_relevant[i] - 1) / (2**1 - 1)   \r\n",
        "   \r\n",
        "    \r\n",
        "    P_k = np.zeros(k)    \r\n",
        "    P_k[0] = p_k[0]\r\n",
        "    for i in range(1, k):\r\n",
        "        P_k[i] = p_k[i]\r\n",
        "        for j in range(1, i):\r\n",
        "            P_k[i] *= (1 - p_k[j]) \r\n",
        "        P_k[i] = P_k[i] / k\r\n",
        "   \r\n",
        "        \r\n",
        "    return sum(P_k)\r\n",
        "\r\n"
      ],
      "execution_count": 197,
      "outputs": []
    },
    {
      "cell_type": "code",
      "metadata": {
        "colab": {
          "base_uri": "https://localhost:8080/"
        },
        "id": "leNW-0vaNBpx",
        "outputId": "2691da98-f0a2-47dd-b1a1-8b1742a48607"
      },
      "source": [
        "boughted = [1, 3, 5, 7, 9, 11]\r\n",
        "recommended = [2, 5, 7, 4, 11, 9, 8, 10, 12, 3]\r\n",
        "\r\n",
        "list=[recommended, boughted, 8]\r\n",
        "\r\n",
        "print(\"Метрика PR@8 \" + str(pr_k(recommended, boughted, 8)))\r\n",
        "\r\n",
        "print(\"Метрика REC@8  \"+ str(rec_k(recommended, boughted, 8)))\r\n",
        "\r\n",
        "print(\"Метрика AP@8  \" + str(ap_k(recommended, boughted, 8)))\r\n",
        "\r\n",
        "print(\"Метрика NDCG_k  \" + str(NDCG_k(recommended, boughted, 8)))\r\n",
        "\r\n",
        "print(\"Метрика RR_k  \" + str(RR_k(recommended, boughted, 8)))\r\n",
        "\r\n",
        "print(\"Метрика reciprocal_rank@8  \" + str(reciprocal_rank(recommended, boughted, 8)))\r\n",
        "\r\n",
        "print(\"Метрика expected_reciprocal_rank  \" + str(expected_reciprocal_rank(recommended, boughted, 8)))\r\n",
        "\r\n"
      ],
      "execution_count": 198,
      "outputs": [
        {
          "output_type": "stream",
          "text": [
            "Метрика PR@8 0.5\n",
            "Метрика REC@8  0.6666666666666666\n",
            "Метрика AP@8  0.32\n",
            "Метрика NDCG_k  0.6215894130709897\n",
            "Метрика RR_k  0.5\n",
            "Метрика reciprocal_rank@8  0.095\n",
            "Метрика expected_reciprocal_rank  0.125\n"
          ],
          "name": "stdout"
        }
      ]
    },
    {
      "cell_type": "markdown",
      "metadata": {
        "id": "49ZeWZOaP91v"
      },
      "source": [
        ""
      ]
    }
  ]
}